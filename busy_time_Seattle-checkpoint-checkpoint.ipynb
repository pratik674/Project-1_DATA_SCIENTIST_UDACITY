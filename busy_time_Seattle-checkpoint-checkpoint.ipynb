{
 "cells": [
  {
   "cell_type": "markdown",
   "id": "d1fc9a48",
   "metadata": {},
   "source": [
    "### Question: What is the busiest  time to visit Seattle? What is the asking price?"
   ]
  },
  {
   "cell_type": "code",
   "execution_count": 1,
   "id": "83468c74",
   "metadata": {},
   "outputs": [],
   "source": [
    "import seaborn as sns\n",
    "import matplotlib.pyplot as plt\n",
    "import pandas as pd\n",
    "import numpy as np\n",
    "\n",
    "calendar_df = pd.read_csv('C:/Users/prati/OneDrive/Desktop/calendar.csv')\n",
    "listing_df = pd.read_csv('C:/Users/prati/OneDrive/Desktop/listings.csv')\n",
    "reviews_df = pd.read_csv('C:/Users/prati/OneDrive/Desktop/reviews.csv')"
   ]
  },
  {
   "cell_type": "markdown",
   "id": "76aa4765",
   "metadata": {},
   "source": [
    "Clean data from calendar. Extract month and year info and store it in a new dataframe"
   ]
  },
  {
   "cell_type": "code",
   "execution_count": 2,
   "id": "57f85902",
   "metadata": {},
   "outputs": [],
   "source": [
    "# remove Nan from Price column, and then remove $ from price\n",
    "\n",
    "calendar_df.head()\n",
    "calendar_clean = calendar_df\n",
    "#calendar_clean= calendar_df.dropna(subset=['price'],axis = 0)\n",
    "calendar_clean['price']= calendar_clean['price'].replace({'\\$':'', ',': ''}, regex = True).astype(float)\n",
    "calendar_clean['avail'] = calendar_clean['available'].replace({'t': 1, 'f':0}, inplace = True)\n",
    "calendar_clean['month']= pd.DatetimeIndex(calendar_clean['date']).month\n",
    "calendar_clean['year']= pd.DatetimeIndex(calendar_clean['date']).year\n",
    "calendar_clean['month_year']= pd.DatetimeIndex(calendar_clean['date']).to_period('M')\n",
    "cal_clean = calendar_clean"
   ]
  },
  {
   "cell_type": "markdown",
   "id": "68b53d64",
   "metadata": {},
   "source": [
    "Busiest time of the year is a function of availability( intuitively inversely proportional), find out the busiest time and plot the trend of availability and time"
   ]
  },
  {
   "cell_type": "code",
   "execution_count": 3,
   "id": "2acfbb1f",
   "metadata": {
    "scrolled": true
   },
   "outputs": [
    {
     "data": {
      "text/html": [
       "<div>\n",
       "<style scoped>\n",
       "    .dataframe tbody tr th:only-of-type {\n",
       "        vertical-align: middle;\n",
       "    }\n",
       "\n",
       "    .dataframe tbody tr th {\n",
       "        vertical-align: top;\n",
       "    }\n",
       "\n",
       "    .dataframe thead th {\n",
       "        text-align: right;\n",
       "    }\n",
       "</style>\n",
       "<table border=\"1\" class=\"dataframe\">\n",
       "  <thead>\n",
       "    <tr style=\"text-align: right;\">\n",
       "      <th></th>\n",
       "      <th>month_year</th>\n",
       "      <th>avg_availability</th>\n",
       "    </tr>\n",
       "  </thead>\n",
       "  <tbody>\n",
       "    <tr>\n",
       "      <th>12</th>\n",
       "      <td>2017-01</td>\n",
       "      <td>0.746202</td>\n",
       "    </tr>\n",
       "    <tr>\n",
       "      <th>11</th>\n",
       "      <td>2016-12</td>\n",
       "      <td>0.735573</td>\n",
       "    </tr>\n",
       "    <tr>\n",
       "      <th>10</th>\n",
       "      <td>2016-11</td>\n",
       "      <td>0.713986</td>\n",
       "    </tr>\n",
       "    <tr>\n",
       "      <th>2</th>\n",
       "      <td>2016-03</td>\n",
       "      <td>0.709187</td>\n",
       "    </tr>\n",
       "    <tr>\n",
       "      <th>9</th>\n",
       "      <td>2016-10</td>\n",
       "      <td>0.696514</td>\n",
       "    </tr>\n",
       "    <tr>\n",
       "      <th>4</th>\n",
       "      <td>2016-05</td>\n",
       "      <td>0.675670</td>\n",
       "    </tr>\n",
       "    <tr>\n",
       "      <th>8</th>\n",
       "      <td>2016-09</td>\n",
       "      <td>0.674402</td>\n",
       "    </tr>\n",
       "    <tr>\n",
       "      <th>5</th>\n",
       "      <td>2016-06</td>\n",
       "      <td>0.674384</td>\n",
       "    </tr>\n",
       "    <tr>\n",
       "      <th>3</th>\n",
       "      <td>2016-04</td>\n",
       "      <td>0.663847</td>\n",
       "    </tr>\n",
       "    <tr>\n",
       "      <th>1</th>\n",
       "      <td>2016-02</td>\n",
       "      <td>0.662208</td>\n",
       "    </tr>\n",
       "    <tr>\n",
       "      <th>7</th>\n",
       "      <td>2016-08</td>\n",
       "      <td>0.645051</td>\n",
       "    </tr>\n",
       "    <tr>\n",
       "      <th>6</th>\n",
       "      <td>2016-07</td>\n",
       "      <td>0.627097</td>\n",
       "    </tr>\n",
       "    <tr>\n",
       "      <th>0</th>\n",
       "      <td>2016-01</td>\n",
       "      <td>0.554133</td>\n",
       "    </tr>\n",
       "  </tbody>\n",
       "</table>\n",
       "</div>"
      ],
      "text/plain": [
       "   month_year  avg_availability\n",
       "12    2017-01          0.746202\n",
       "11    2016-12          0.735573\n",
       "10    2016-11          0.713986\n",
       "2     2016-03          0.709187\n",
       "9     2016-10          0.696514\n",
       "4     2016-05          0.675670\n",
       "8     2016-09          0.674402\n",
       "5     2016-06          0.674384\n",
       "3     2016-04          0.663847\n",
       "1     2016-02          0.662208\n",
       "7     2016-08          0.645051\n",
       "6     2016-07          0.627097\n",
       "0     2016-01          0.554133"
      ]
     },
     "execution_count": 3,
     "metadata": {},
     "output_type": "execute_result"
    },
    {
     "data": {
      "image/png": "[encoded data removed]",
      "text/plain": [
       "<Figure size 720x360 with 1 Axes>"
      ]
     },
     "metadata": {
      "needs_background": "light"
     },
     "output_type": "display_data"
    }
   ],
   "source": [
    "#what is the busiest time of the year based on listing\n",
    "\n",
    "busy_time = cal_clean.groupby(['month_year']).mean()['available'].reset_index(name= 'avg_availability')\n",
    "sns.catplot(data = busy_time, x = 'month_year', y= 'avg_availability', kind ='bar', dodge =False, aspect =2)\n",
    "\n",
    "busy_time.sort_values(by='avg_availability', ascending = False)\n"
   ]
  },
  {
   "cell_type": "markdown",
   "id": "e624b86b",
   "metadata": {},
   "source": [
    "Calculate and plot the price variation over this given period of time"
   ]
  },
  {
   "cell_type": "code",
   "execution_count": 4,
   "id": "c89f97a5",
   "metadata": {},
   "outputs": [
    {
     "data": {
      "text/plain": [
       "<seaborn.axisgrid.FacetGrid at 0x20648169700>"
      ]
     },
     "execution_count": 4,
     "metadata": {},
     "output_type": "execute_result"
    },
    {
     "data": {
      "image/png": "[encoded data removed]",
      "text/plain": [
       "<Figure size 507.625x360 with 1 Axes>"
      ]
     },
     "metadata": {
      "needs_background": "light"
     },
     "output_type": "display_data"
    }
   ],
   "source": [
    "# what is the pricing like during the busiest time and by how much does the price change from non busy time\n",
    "\n",
    "price_var = cal_clean.groupby(['month_year']).mean()['price'].reset_index(name='avg_price')\n",
    "col_price = price_var['avg_price']\n",
    "col_merge_df = pd.concat([busy_time, col_price], axis = 1, ignore_index= True, sort = False)\n",
    "price_avail= col_merge_df.set_axis(['month_year','avg_availability', 'avg_price'], axis = 1, inplace = False)\n",
    "\n",
    "price_avail.sort_values(by = 'avg_price', ascending = False)\n",
    "\n",
    "sns.catplot(data = price_avail, y = 'month_year', x = 'avg_availability', hue= 'avg_price', kind = 'bar', palette = 'rocket_r',dodge = False)\n"
   ]
  },
  {
   "cell_type": "markdown",
   "id": "ce08ca0b",
   "metadata": {},
   "source": [
    "What is the price change from normal visiting season to busiest season"
   ]
  },
  {
   "cell_type": "code",
   "execution_count": 5,
   "id": "02b0c42a",
   "metadata": {},
   "outputs": [
    {
     "name": "stdout",
     "output_type": "stream",
     "text": [
      "The price in the busiest season can rise upto 25.0 percent more than usual\n"
     ]
    }
   ],
   "source": [
    "price_max= price_avail['avg_price'].max()\n",
    "price_min= price_avail['avg_price'].min()\n",
    "price_diff = price_max-price_min\n",
    "perc_change= round((100*price_diff/price_min),0)\n",
    "print('The price in the busiest season can rise upto', perc_change, 'percent more than usual')"
   ]
  },
  {
   "cell_type": "code",
   "execution_count": null,
   "id": "8855a9dd",
   "metadata": {},
   "outputs": [],
   "source": []
  }
 ],
 "metadata": {
  "kernelspec": {
   "display_name": "Python 3",
   "language": "python",
   "name": "python3"
  },
  "language_info": {
   "codemirror_mode": {
    "name": "ipython",
    "version": 3
   },
   "file_extension": ".py",
   "mimetype": "text/x-python",
   "name": "python",
   "nbconvert_exporter": "python",
   "pygments_lexer": "ipython3",
   "version": "3.8.8"
  }
 },
 "nbformat": 4,
 "nbformat_minor": 5
}
